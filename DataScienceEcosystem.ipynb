{
 "cells": [
  {
   "cell_type": "markdown",
   "id": "a5fd1436-5c96-4ac8-a313-7754450cad0b",
   "metadata": {
    "tags": []
   },
   "source": [
    "# Data Science Tools and Ecosystem"
   ]
  },
  {
   "cell_type": "markdown",
   "id": "30af2427-5229-4b79-912c-b8f6503ebb7d",
   "metadata": {},
   "source": [
    "In this notebook, Data Science Tools and Ecosystem are summarized."
   ]
  },
  {
   "cell_type": "markdown",
   "id": "be1cc5e2-bf87-4154-8dcf-fd865aded2e4",
   "metadata": {},
   "source": [
    "**Objectives**\n",
    "* list data science languages\n",
    "* list data science libraries\n",
    "* introduce arithmetic expression example"
   ]
  },
  {
   "cell_type": "markdown",
   "id": "a95efa6e-9fc0-44a4-980e-63a903995593",
   "metadata": {},
   "source": [
    "Some of the popular languages that Data Scientists use are:\n",
    "<ol>\n",
    "    <li>Jupiter</li>\n",
    "    <li>Python</li>\n",
    "    <li>Ruby</li>\n",
    "</ol>"
   ]
  },
  {
   "cell_type": "markdown",
   "id": "ec3233d3-dc4d-451e-b302-e2cf0577c5bf",
   "metadata": {},
   "source": [
    "Some of the commonly used libraries used by Data Scientists include:\n",
    "<ol>\n",
    "    <li>matplotlib</li>\n",
    "    <li>numpy</li>\n",
    "    <li>scipy</li>\n",
    "</ol>"
   ]
  },
  {
   "cell_type": "markdown",
   "id": "e3da4d21-da05-4bc1-9c39-46cc6c246ccb",
   "metadata": {},
   "source": [
    "| Data Science Tools |\n",
    "|--------------------|\n",
    "| Eclipse |\n",
    "| NetBeans |\n",
    "| Atomm |"
   ]
  },
  {
   "cell_type": "markdown",
   "id": "ec533612-50eb-4575-b274-9b73de2c8455",
   "metadata": {},
   "source": [
    "### Below are a few examples  of evaluating airthtmetic expressions in Python"
   ]
  },
  {
   "cell_type": "code",
   "execution_count": 2,
   "id": "77751f9b-c70c-4940-b1ad-322cd2acac0f",
   "metadata": {
    "tags": []
   },
   "outputs": [
    {
     "name": "stdout",
     "output_type": "stream",
     "text": [
      "17\n"
     ]
    }
   ],
   "source": [
    "# This is a simple arithmetic expresion to multiply then add integerrs\n",
    "x = (3*4)+5\n",
    "print(x)"
   ]
  },
  {
   "cell_type": "code",
   "execution_count": 4,
   "id": "c34454cd-9368-42ee-8bd0-260dfb082993",
   "metadata": {
    "tags": []
   },
   "outputs": [
    {
     "name": "stdout",
     "output_type": "stream",
     "text": [
      "3.3333333333333335\n"
     ]
    }
   ],
   "source": [
    "# This will convert 200 minutes to hours by dividing by 60\n",
    "x = 200\n",
    "z = x/60\n",
    "print(z)"
   ]
  },
  {
   "cell_type": "markdown",
   "id": "0dcaf7ef-8c8c-4898-b17f-92dc5736ce64",
   "metadata": {},
   "source": [
    "## Author\n",
    "Kevin Belleza"
   ]
  },
  {
   "cell_type": "code",
   "execution_count": null,
   "id": "1c7d12cb-bdfb-4b45-807e-62a72cd50fd7",
   "metadata": {},
   "outputs": [],
   "source": []
  }
 ],
 "metadata": {
  "kernelspec": {
   "display_name": "Python",
   "language": "python",
   "name": "conda-env-python-py"
  },
  "language_info": {
   "codemirror_mode": {
    "name": "ipython",
    "version": 3
   },
   "file_extension": ".py",
   "mimetype": "text/x-python",
   "name": "python",
   "nbconvert_exporter": "python",
   "pygments_lexer": "ipython3",
   "version": "3.7.12"
  }
 },
 "nbformat": 4,
 "nbformat_minor": 5
}
